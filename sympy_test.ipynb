{
  "nbformat": 4,
  "nbformat_minor": 0,
  "metadata": {
    "colab": {
      "provenance": [],
      "authorship_tag": "ABX9TyMK1Q/HkU/qclc978h64JLi",
      "include_colab_link": true
    },
    "kernelspec": {
      "name": "python3",
      "display_name": "Python 3"
    },
    "language_info": {
      "name": "python"
    }
  },
  "cells": [
    {
      "cell_type": "markdown",
      "metadata": {
        "id": "view-in-github",
        "colab_type": "text"
      },
      "source": [
        "<a href=\"https://colab.research.google.com/github/ocinpriatna/dhimatrix/blob/main/sympy_test.ipynb\" target=\"_parent\"><img src=\"https://colab.research.google.com/assets/colab-badge.svg\" alt=\"Open In Colab\"/></a>"
      ]
    },
    {
      "cell_type": "markdown",
      "source": [
        "\\begin{equation}\n",
        "\\begin{cases}\n",
        "4x + 7y = -9 && \\text{EQN1} \\\\\n",
        "5x + 4y = -10 && \\text{EQN1}\n",
        "\\end{cases}\n",
        "\\end{equation}"
      ],
      "metadata": {
        "id": "sa_30qCzaGR_"
      }
    },
    {
      "cell_type": "code",
      "execution_count": 5,
      "metadata": {
        "colab": {
          "base_uri": "https://localhost:8080/",
          "height": 58
        },
        "id": "Q1s92SPjZ-oY",
        "outputId": "52096099-556e-408f-d0b0-77c7d5c9bd83"
      },
      "outputs": [
        {
          "output_type": "execute_result",
          "data": {
            "text/plain": [
              "{(2/3, -5/3)}"
            ],
            "text/latex": "$\\displaystyle \\left\\{\\left( \\frac{2}{3}, \\  - \\frac{5}{3}\\right)\\right\\}$"
          },
          "metadata": {},
          "execution_count": 5
        }
      ],
      "source": [
        "import sympy as sp\n",
        "\n",
        "x,y = sp.symbols(\"x y\")\n",
        "\n",
        "EQN1 = sp.Eq(4*x + 7*y, -9)\n",
        "EQN2 = sp.Eq(5*x + 8*y, -10)\n",
        "\n",
        "system = [EQN1, EQN2]\n",
        "hasil = sp.linsolve(system, x, y)\n",
        "\n",
        "hasil\n"
      ]
    }
  ]
}